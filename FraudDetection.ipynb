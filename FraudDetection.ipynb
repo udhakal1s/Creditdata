{
 "cells": [
  {
   "cell_type": "code",
   "execution_count": 1,
   "id": "c6672c79-63c4-4f21-94e0-b8e60e7547db",
   "metadata": {},
   "outputs": [
    {
     "name": "stdout",
     "output_type": "stream",
     "text": [
      "(284807, 31)\n",
      "   Time        V1        V2        V3        V4        V5        V6        V7  \\\n",
      "0   0.0 -1.359807 -0.072781  2.536347  1.378155 -0.338321  0.462388  0.239599   \n",
      "1   0.0  1.191857  0.266151  0.166480  0.448154  0.060018 -0.082361 -0.078803   \n",
      "2   1.0 -1.358354 -1.340163  1.773209  0.379780 -0.503198  1.800499  0.791461   \n",
      "3   1.0 -0.966272 -0.185226  1.792993 -0.863291 -0.010309  1.247203  0.237609   \n",
      "4   2.0 -1.158233  0.877737  1.548718  0.403034 -0.407193  0.095921  0.592941   \n",
      "\n",
      "         V8        V9  ...       V21       V22       V23       V24       V25  \\\n",
      "0  0.098698  0.363787  ... -0.018307  0.277838 -0.110474  0.066928  0.128539   \n",
      "1  0.085102 -0.255425  ... -0.225775 -0.638672  0.101288 -0.339846  0.167170   \n",
      "2  0.247676 -1.514654  ...  0.247998  0.771679  0.909412 -0.689281 -0.327642   \n",
      "3  0.377436 -1.387024  ... -0.108300  0.005274 -0.190321 -1.175575  0.647376   \n",
      "4 -0.270533  0.817739  ... -0.009431  0.798278 -0.137458  0.141267 -0.206010   \n",
      "\n",
      "        V26       V27       V28  Amount  Class  \n",
      "0 -0.189115  0.133558 -0.021053  149.62      0  \n",
      "1  0.125895 -0.008983  0.014724    2.69      0  \n",
      "2 -0.139097 -0.055353 -0.059752  378.66      0  \n",
      "3 -0.221929  0.062723  0.061458  123.50      0  \n",
      "4  0.502292  0.219422  0.215153   69.99      0  \n",
      "\n",
      "[5 rows x 31 columns]\n",
      "Class\n",
      "0    284315\n",
      "1       492\n",
      "Name: count, dtype: int64\n"
     ]
    }
   ],
   "source": [
    "# fraud_detection.py\n",
    "# Fraud Detection using PyOD AutoEncoder\n",
    "# Umesh Dhakal\n",
    "#MSCS633\n",
    "#Assignment 4\n",
    "import pandas as pd\n",
    "#loading the dataset\n",
    "creditcard_data = pd.read_csv(r\"C:\\Users\\umesh\\FraudDetection\\creditcard.csv\")\n",
    "print(creditcard_data.shape)\n",
    "print(creditcard_data.head())\n",
    "print(creditcard_data['Class'].value_counts())\n"
   ]
  },
  {
   "cell_type": "code",
   "execution_count": 2,
   "id": "d3141b7f-ba94-4bdd-b812-9d6e8239e5d1",
   "metadata": {},
   "outputs": [
    {
     "name": "stderr",
     "output_type": "stream",
     "text": [
      "Training: 100%|███████████████████████████████████████████████████████████████████████████████████████████████████████████| 10/10 [38:11<00:00, 229.17s/it]\n"
     ]
    },
    {
     "name": "stdout",
     "output_type": "stream",
     "text": [
      "\n",
      "Prediction Summary Matrix:\n",
      "[[51255  5609]\n",
      " [    8    90]]\n",
      "\n",
      "Fraud Detection Report:\n",
      "              precision    recall  f1-score   support\n",
      "\n",
      "           0     0.9998    0.9014    0.9481     56864\n",
      "           1     0.0158    0.9184    0.0311        98\n",
      "\n",
      "    accuracy                         0.9014     56962\n",
      "   macro avg     0.5078    0.9099    0.4896     56962\n",
      "weighted avg     0.9982    0.9014    0.9465     56962\n",
      "\n",
      "\n",
      "Fraud Detection Samples (data is normal if 0, fraud transection if 1):\n",
      "[1 0 0 0 0 0 0 0 0 1 0 0 0 0 0]\n"
     ]
    }
   ],
   "source": [
    "# fraud_detection.py\n",
    "# Fraud Detection using PyOD AutoEncoder\n",
    "# Umesh Dhakal\n",
    "#MSCS633\n",
    "#Assignment 4\n",
    "from sklearn.preprocessing import StandardScaler\n",
    "from sklearn.model_selection import train_test_split\n",
    "from sklearn.metrics import classification_report, confusion_matrix\n",
    "from pyod.models.auto_encoder import AutoEncoder\n",
    "\n",
    "# transaction data and label to notify fraud or not \n",
    "f = creditcard_data.drop('Class', axis=1)  \n",
    "l = creditcard_data['Class']              \n",
    "\n",
    "# Here we are adjusting the features to be in same scale\n",
    "scaler_feature = StandardScaler()\n",
    "feature_scaled = scaler_feature.fit_transform(f)\n",
    "\n",
    "# Splitting the data into training and testing sets\n",
    "f_train, f_test, l_train, l_test = train_test_split(\n",
    "    feature_scaled, l, test_size=0.2, random_state=42\n",
    ")\n",
    "\n",
    "# Model for AutoEncoder to find the fraud\n",
    "fd = AutoEncoder(hidden_neuron_list=[32, 16, 8, 16, 32], verbose=1)\n",
    "fd.fit(f_train)\n",
    "\n",
    "# Predicting the data to see fraud or not on the test dataset\n",
    "label_prediction = fd.predict(f_test)\n",
    "\n",
    "# Analysis\n",
    "print(\"\\nPrediction Summary Matrix:\")\n",
    "print(confusion_matrix(l_test, label_prediction))\n",
    "\n",
    "print(\"\\nFraud Detection Report:\")\n",
    "print(classification_report(l_test, label_prediction, digits=4))\n",
    "#predicting first 15 sample to see fraud or not\n",
    "print(\"\\nFraud Detection Samples (data is normal if 0, fraud transection if 1):\")\n",
    "print(label_prediction[:15])\n",
    "\n"
   ]
  },
  {
   "cell_type": "code",
   "execution_count": null,
   "id": "2b5805bd-d748-4ee3-b9c3-40683bd2a07b",
   "metadata": {},
   "outputs": [],
   "source": []
  },
  {
   "cell_type": "code",
   "execution_count": null,
   "id": "cd311f34-9d0b-4825-ae92-32efbcb22d06",
   "metadata": {},
   "outputs": [],
   "source": []
  }
 ],
 "metadata": {
  "kernelspec": {
   "display_name": "Python [conda env:base] *",
   "language": "python",
   "name": "conda-base-py"
  },
  "language_info": {
   "codemirror_mode": {
    "name": "ipython",
    "version": 3
   },
   "file_extension": ".py",
   "mimetype": "text/x-python",
   "name": "python",
   "nbconvert_exporter": "python",
   "pygments_lexer": "ipython3",
   "version": "3.13.5"
  }
 },
 "nbformat": 4,
 "nbformat_minor": 5
}
